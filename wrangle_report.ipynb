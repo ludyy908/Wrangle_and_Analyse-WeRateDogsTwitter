{
 "cells": [
  {
   "cell_type": "markdown",
   "metadata": {},
   "source": [
    "# Wrangle Report"
   ]
  },
  {
   "cell_type": "markdown",
   "metadata": {},
   "source": [
    "## Contents"
   ]
  },
  {
   "cell_type": "markdown",
   "metadata": {},
   "source": [
    "<ul>\n",
    "<li><a href=\"#intro\">Introduction</a></li>\n",
    "<li><a href=\"#wrangling\">Wrangling Processes</a></li>\n",
    "<li><a href=\"#conclusion\">Conclusion</a></li>\n",
    "</ul>"
   ]
  },
  {
   "cell_type": "markdown",
   "metadata": {},
   "source": [
    "<a id='intro'></a>\n",
    "## Introduction\n",
    "This is a report for the wrangling process based in the data of the Twitter account WeRateDogs. It will be reported all the process made in order to achieve the goal which is to gather data from certain sources and making it possible to make good and precised analysis with them."
   ]
  },
  {
   "cell_type": "markdown",
   "metadata": {},
   "source": [
    "<a id='wrangling'></a>\n",
    "## Wrangling Processes\n",
    "The following libraries were used in the process:  numpy, pandas, matplotlib, tweepy, json, seaborn, matplotlib, requests, os and io.\n",
    "\n",
    "### Gathering data\n",
    "The data provided was from three different sources, which had to be gathered using three different methods too.\n",
    "\n",
    "* `twitter_archive_enhanced.csv`: the WeRateDogs Twitter archive,  that was manually downloaded.\n",
    "\n",
    "\n",
    "* `image_predictions.tsv`: the tweet image predictions, that was programatically downloaded, using the url provided by Udacity.\n",
    "\n",
    "\n",
    "* `tweet_json.txt`: the additional data provided by Twitter from the Twitter API. By using the Twitter API and its library, the data acquired was stored in the text file, for extraction of additional information.\n"
   ]
  },
  {
   "cell_type": "markdown",
   "metadata": {},
   "source": [
    "### Assessing data\n",
    "For this process, Visual and Programmatic assessment were made. With the assessment, the following issues were identified:\n",
    "\n",
    "Quality issues:\n",
    "\n",
    "1. Retweet posts from WeRateDogs.\n",
    "\n",
    "2. Retweet post related columns.\n",
    "\n",
    "3. Dog stages mentioned but not noted.\n",
    "\n",
    "4. `timestamp` attribute is object variable and `favorites` and `retweets` attributes are float variables.\n",
    "\n",
    "5. Source attribute written as html tag.\n",
    "\n",
    "6. Dogs named with 'a' have a real name in each the tweet.\n",
    "\n",
    "7. Tweets with dog breed non-recognized.\n",
    "\n",
    "8. Reply tweets without images.\n",
    "\n",
    "9. Some dog breed names starting with lowercase letter. \n",
    "\n",
    "Tidiness issues:\n",
    "\n",
    "1. Variable in four columns in `archive_data` table (doggo,\tfloofer, pupper, puppo).\n",
    "\n",
    "2. Multiple variable values for dog breed (p1, p2, p3) in each row  in table `images`.\n",
    "\n",
    "3. `additional` columns and  Dog breed column from `images` should be part of `archive_data` table."
   ]
  },
  {
   "cell_type": "markdown",
   "metadata": {},
   "source": [
    "### Cleaning data\n",
    "\n",
    "Before starting to clean the data gathered, it was made a copy of the original datasets. The copys were the ones being modified during the cleaning process.\n",
    "\n",
    "The issues to be cleaned were categorized. They were divided in three parts: Missing Values, Tidiness and Quality issues, respectively. The cleaning was made following the sequence mentioned before, to turn the process much easier.\n",
    "Besides the issues to be cleaned, the process was made following a sequence: **Defining, Coding** and **Testing**.\n"
   ]
  },
  {
   "cell_type": "markdown",
   "metadata": {},
   "source": [
    "### Storing data\n",
    "Having cleaned datasets, there were two datasets in the end. Two of the datasets were merged, and the last had just one of its attributes that could be part of the master dataset, once the rest did not contain information that was needed to be part of the master dataset."
   ]
  },
  {
   "cell_type": "markdown",
   "metadata": {},
   "source": [
    "<a id='conclusion'></a>\n",
    "## Conclusion\n",
    "The Wrangle proccess following a well defined sequence can be made much easier, once making every process in order is much helpfull, and with much effort and attention, it is possible to identify and correct every issue contained in various datasets."
   ]
  }
 ],
 "metadata": {
  "kernelspec": {
   "display_name": "Python 3",
   "language": "python",
   "name": "python3"
  },
  "language_info": {
   "codemirror_mode": {
    "name": "ipython",
    "version": 3
   },
   "file_extension": ".py",
   "mimetype": "text/x-python",
   "name": "python",
   "nbconvert_exporter": "python",
   "pygments_lexer": "ipython3",
   "version": "3.6.3"
  }
 },
 "nbformat": 4,
 "nbformat_minor": 2
}
